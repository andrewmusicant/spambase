{
 "cells": [
  {
   "cell_type": "code",
   "execution_count": 46,
   "metadata": {
    "collapsed": false
   },
   "outputs": [],
   "source": [
    "import pandas as pd\n",
    "import matplotlib.pyplot as plt\n",
    "import numpy as np\n",
    "from sklearn.naive_bayes import MultinomialNB\n",
    "from sklearn.cross_validation import train_test_split\n",
    "from spambase_column_names import columns\n",
    "%matplotlib inline"
   ]
  },
  {
   "cell_type": "markdown",
   "metadata": {},
   "source": [
    "# Split is 60% train 40% test"
   ]
  },
  {
   "cell_type": "markdown",
   "metadata": {},
   "source": [
    "# Here imports the data into a DataFrame and assigns the first 57 columns to the X value and the last column to the Y value"
   ]
  },
  {
   "cell_type": "code",
   "execution_count": 47,
   "metadata": {
    "collapsed": false
   },
   "outputs": [],
   "source": [
    "df = pd.read_csv(\"spambase.data\", names=columns)\n",
    "x = df[list(range(57))]\n",
    "y = df['SPAM']"
   ]
  },
  {
   "cell_type": "markdown",
   "metadata": {},
   "source": [
    "# The next cell splits up the data and trains the program with 60% of the data and tests the program with the remaining 40%"
   ]
  },
  {
   "cell_type": "code",
   "execution_count": 48,
   "metadata": {
    "collapsed": false
   },
   "outputs": [],
   "source": [
    "train_x, test_x, train_y, test_y = train_test_split(x, y, train_size=0.6, test_size=0.4, random_state=1)\n",
    "clf = MultinomialNB()\n",
    "clf.fit(train_x, train_y)\n",
    "None"
   ]
  },
  {
   "cell_type": "markdown",
   "metadata": {},
   "source": [
    "# The last cell prints out the R-squared value which is the strength of the corraltion of the data. It also prints out the ratios of spam and ham between the test and train data"
   ]
  },
  {
   "cell_type": "code",
   "execution_count": 49,
   "metadata": {
    "collapsed": false
   },
   "outputs": [
    {
     "name": "stdout",
     "output_type": "stream",
     "text": [
      "R-squared score 0.778381314503\n",
      "Spam Ratio for test data 0.403585008148\n",
      "Spam Ratio for train data 0.38768115942\n"
     ]
    }
   ],
   "source": [
    "spam_ratio1 = sum(test_y) / len(test_y)\n",
    "spam_ratio2 = sum(train_y) / len(train_y)\n",
    "print('R-squared score', clf.score(test_x, test_y))\n",
    "print('Spam Ratio for test data', spam_ratio1)\n",
    "print('Spam Ratio for train data', spam_ratio2)"
   ]
  },
  {
   "cell_type": "markdown",
   "metadata": {},
   "source": [
    "# Split is 80% train 20% test"
   ]
  },
  {
   "cell_type": "markdown",
   "metadata": {},
   "source": [
    "# Here imports the data into a DataFrame and assigns the first 57 columns to the X value and the last column to the Y value"
   ]
  },
  {
   "cell_type": "code",
   "execution_count": 50,
   "metadata": {
    "collapsed": false
   },
   "outputs": [],
   "source": [
    "df = pd.read_csv(\"spambase.data\", names=columns)\n",
    "x = df[list(range(57))]\n",
    "y = df['SPAM']"
   ]
  },
  {
   "cell_type": "markdown",
   "metadata": {},
   "source": [
    "# The next cell splits up the data and trains the program with 80% of the data and tests the program with the remaining 20%"
   ]
  },
  {
   "cell_type": "code",
   "execution_count": 51,
   "metadata": {
    "collapsed": false
   },
   "outputs": [],
   "source": [
    "train_x, test_x, train_y, test_y = train_test_split(x, y, train_size=0.8, test_size=0.2, random_state=1)\n",
    "clf = MultinomialNB()\n",
    "clf.fit(train_x, train_y)\n",
    "None"
   ]
  },
  {
   "cell_type": "markdown",
   "metadata": {},
   "source": [
    "# The last cell prints out the R-squared value which is the strength of the corraltion of the data. It also prints out the ratios of spam and ham between the test and train data"
   ]
  },
  {
   "cell_type": "code",
   "execution_count": 52,
   "metadata": {
    "collapsed": false
   },
   "outputs": [
    {
     "name": "stdout",
     "output_type": "stream",
     "text": [
      "R-squared score 0.778501628664\n",
      "Spam Ratio for test data 0.387622149837\n",
      "Spam Ratio for train data 0.395652173913\n"
     ]
    }
   ],
   "source": [
    "spam_ratio1 = sum(test_y) / len(test_y)\n",
    "spam_ratio2 = sum(train_y) / len(train_y)\n",
    "print('R-squared score', clf.score(test_x, test_y))\n",
    "print('Spam Ratio for test data', spam_ratio1)\n",
    "print('Spam Ratio for train data', spam_ratio2)"
   ]
  },
  {
   "cell_type": "markdown",
   "metadata": {},
   "source": [
    "# Split is 30% train 70% test"
   ]
  },
  {
   "cell_type": "markdown",
   "metadata": {},
   "source": [
    "# Here imports the data into a DataFrame and assigns the first 57 columns to the X value and the last column to the Y value"
   ]
  },
  {
   "cell_type": "code",
   "execution_count": 53,
   "metadata": {
    "collapsed": false
   },
   "outputs": [],
   "source": [
    "df = pd.read_csv(\"spambase.data\", names=columns)\n",
    "x = df[list(range(57))]\n",
    "y = df['SPAM']"
   ]
  },
  {
   "cell_type": "markdown",
   "metadata": {},
   "source": [
    "# The next cell splits up the data and trains the program with 80% of the data and tests the program with the remaining 20%"
   ]
  },
  {
   "cell_type": "code",
   "execution_count": 54,
   "metadata": {
    "collapsed": false
   },
   "outputs": [],
   "source": [
    "train_x, test_x, train_y, test_y = train_test_split(x, y, train_size=0.3, test_size=0.7, random_state=1)\n",
    "clf = MultinomialNB()\n",
    "clf.fit(train_x, train_y)\n",
    "None"
   ]
  },
  {
   "cell_type": "markdown",
   "metadata": {},
   "source": [
    "# The last cell prints out the R-squared value which is the strength of the corraltion of the data. It also prints out the ratios of spam and ham between the test and train data"
   ]
  },
  {
   "cell_type": "code",
   "execution_count": 55,
   "metadata": {
    "collapsed": false
   },
   "outputs": [
    {
     "name": "stdout",
     "output_type": "stream",
     "text": [
      "R-squared score 0.793231915554\n",
      "Spam Ratio for test data 0.398323502018\n",
      "Spam Ratio for train data 0.384057971014\n"
     ]
    }
   ],
   "source": [
    "spam_ratio1 = sum(test_y) / len(test_y)\n",
    "spam_ratio2 = sum(train_y) / len(train_y)\n",
    "print('R-squared score',clf.score(test_x, test_y))\n",
    "print('Spam Ratio for test data', spam_ratio1)\n",
    "print('Spam Ratio for train data', spam_ratio2)"
   ]
  },
  {
   "cell_type": "markdown",
   "metadata": {},
   "source": [
    "# Running the program several times to see the max and min R-squared score"
   ]
  },
  {
   "cell_type": "code",
   "execution_count": 56,
   "metadata": {
    "collapsed": false
   },
   "outputs": [
    {
     "name": "stdout",
     "output_type": "stream",
     "text": [
      "Highest R-Squared Value 0.844768705371\n",
      "Lowest R-Squared Value 0.735175411363\n"
     ]
    }
   ],
   "source": [
    "r_squared_list = []\n",
    "for item in range(100):\n",
    "    df = pd.read_csv(\"spambase.data\", names=columns)\n",
    "    x = df[list(range(57))]\n",
    "    y = df['SPAM']\n",
    "    train_x, test_x, train_y, test_y = train_test_split(x, y, train_size=0.3, test_size=0.7)\n",
    "    clf = MultinomialNB()\n",
    "    clf.fit(train_x, train_y)\n",
    "    r_squared_list.append(clf.score(test_x, test_y))\n",
    "print(\"Highest R-Squared Value\", max(r_squared_list))\n",
    "print(\"Lowest R-Squared Value\", min(r_squared_list))"
   ]
  }
 ],
 "metadata": {
  "kernelspec": {
   "display_name": "Python 3",
   "language": "python",
   "name": "python3"
  },
  "language_info": {
   "codemirror_mode": {
    "name": "ipython",
    "version": 3
   },
   "file_extension": ".py",
   "mimetype": "text/x-python",
   "name": "python",
   "nbconvert_exporter": "python",
   "pygments_lexer": "ipython3",
   "version": "3.5.2"
  }
 },
 "nbformat": 4,
 "nbformat_minor": 0
}
